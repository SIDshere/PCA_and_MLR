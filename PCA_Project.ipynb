{
 "cells": [
  {
   "cell_type": "markdown",
   "id": "c203a54e",
   "metadata": {},
   "source": [
    "## lets Import data and read it and understand it"
   ]
  },
  {
   "cell_type": "code",
   "execution_count": 2,
   "id": "a91c07d7",
   "metadata": {},
   "outputs": [],
   "source": [
    "import pandas as pd\n",
    "import numpy as np"
   ]
  },
  {
   "cell_type": "code",
   "execution_count": 3,
   "id": "3481c35c",
   "metadata": {},
   "outputs": [],
   "source": [
    "import matplotlib.pyplot as plt"
   ]
  },
  {
   "cell_type": "code",
   "execution_count": 4,
   "id": "fa1e68ae",
   "metadata": {},
   "outputs": [],
   "source": [
    "from sklearn.preprocessing import scale"
   ]
  },
  {
   "cell_type": "code",
   "execution_count": 5,
   "id": "5030d2b5",
   "metadata": {},
   "outputs": [],
   "source": [
    "car_df=pd.read_csv('CarPrice_Assignment.csv')"
   ]
  },
  {
   "cell_type": "code",
   "execution_count": 6,
   "id": "80b99e3a",
   "metadata": {},
   "outputs": [
    {
     "data": {
      "text/html": [
       "<div>\n",
       "<style scoped>\n",
       "    .dataframe tbody tr th:only-of-type {\n",
       "        vertical-align: middle;\n",
       "    }\n",
       "\n",
       "    .dataframe tbody tr th {\n",
       "        vertical-align: top;\n",
       "    }\n",
       "\n",
       "    .dataframe thead th {\n",
       "        text-align: right;\n",
       "    }\n",
       "</style>\n",
       "<table border=\"1\" class=\"dataframe\">\n",
       "  <thead>\n",
       "    <tr style=\"text-align: right;\">\n",
       "      <th></th>\n",
       "      <th>car_ID</th>\n",
       "      <th>symboling</th>\n",
       "      <th>CarName</th>\n",
       "      <th>fueltype</th>\n",
       "      <th>aspiration</th>\n",
       "      <th>doornumber</th>\n",
       "      <th>carbody</th>\n",
       "      <th>drivewheel</th>\n",
       "      <th>enginelocation</th>\n",
       "      <th>wheelbase</th>\n",
       "      <th>...</th>\n",
       "      <th>enginesize</th>\n",
       "      <th>fuelsystem</th>\n",
       "      <th>boreratio</th>\n",
       "      <th>stroke</th>\n",
       "      <th>compressionratio</th>\n",
       "      <th>horsepower</th>\n",
       "      <th>peakrpm</th>\n",
       "      <th>citympg</th>\n",
       "      <th>highwaympg</th>\n",
       "      <th>price</th>\n",
       "    </tr>\n",
       "  </thead>\n",
       "  <tbody>\n",
       "    <tr>\n",
       "      <th>0</th>\n",
       "      <td>1</td>\n",
       "      <td>3</td>\n",
       "      <td>alfa-romero giulia</td>\n",
       "      <td>gas</td>\n",
       "      <td>std</td>\n",
       "      <td>two</td>\n",
       "      <td>convertible</td>\n",
       "      <td>rwd</td>\n",
       "      <td>front</td>\n",
       "      <td>88.6</td>\n",
       "      <td>...</td>\n",
       "      <td>130</td>\n",
       "      <td>mpfi</td>\n",
       "      <td>3.47</td>\n",
       "      <td>2.68</td>\n",
       "      <td>9.0</td>\n",
       "      <td>111</td>\n",
       "      <td>5000</td>\n",
       "      <td>21</td>\n",
       "      <td>27</td>\n",
       "      <td>13495.0</td>\n",
       "    </tr>\n",
       "    <tr>\n",
       "      <th>1</th>\n",
       "      <td>2</td>\n",
       "      <td>3</td>\n",
       "      <td>alfa-romero stelvio</td>\n",
       "      <td>gas</td>\n",
       "      <td>std</td>\n",
       "      <td>two</td>\n",
       "      <td>convertible</td>\n",
       "      <td>rwd</td>\n",
       "      <td>front</td>\n",
       "      <td>88.6</td>\n",
       "      <td>...</td>\n",
       "      <td>130</td>\n",
       "      <td>mpfi</td>\n",
       "      <td>3.47</td>\n",
       "      <td>2.68</td>\n",
       "      <td>9.0</td>\n",
       "      <td>111</td>\n",
       "      <td>5000</td>\n",
       "      <td>21</td>\n",
       "      <td>27</td>\n",
       "      <td>16500.0</td>\n",
       "    </tr>\n",
       "    <tr>\n",
       "      <th>2</th>\n",
       "      <td>3</td>\n",
       "      <td>1</td>\n",
       "      <td>alfa-romero Quadrifoglio</td>\n",
       "      <td>gas</td>\n",
       "      <td>std</td>\n",
       "      <td>two</td>\n",
       "      <td>hatchback</td>\n",
       "      <td>rwd</td>\n",
       "      <td>front</td>\n",
       "      <td>94.5</td>\n",
       "      <td>...</td>\n",
       "      <td>152</td>\n",
       "      <td>mpfi</td>\n",
       "      <td>2.68</td>\n",
       "      <td>3.47</td>\n",
       "      <td>9.0</td>\n",
       "      <td>154</td>\n",
       "      <td>5000</td>\n",
       "      <td>19</td>\n",
       "      <td>26</td>\n",
       "      <td>16500.0</td>\n",
       "    </tr>\n",
       "    <tr>\n",
       "      <th>3</th>\n",
       "      <td>4</td>\n",
       "      <td>2</td>\n",
       "      <td>audi 100 ls</td>\n",
       "      <td>gas</td>\n",
       "      <td>std</td>\n",
       "      <td>four</td>\n",
       "      <td>sedan</td>\n",
       "      <td>fwd</td>\n",
       "      <td>front</td>\n",
       "      <td>99.8</td>\n",
       "      <td>...</td>\n",
       "      <td>109</td>\n",
       "      <td>mpfi</td>\n",
       "      <td>3.19</td>\n",
       "      <td>3.40</td>\n",
       "      <td>10.0</td>\n",
       "      <td>102</td>\n",
       "      <td>5500</td>\n",
       "      <td>24</td>\n",
       "      <td>30</td>\n",
       "      <td>13950.0</td>\n",
       "    </tr>\n",
       "    <tr>\n",
       "      <th>4</th>\n",
       "      <td>5</td>\n",
       "      <td>2</td>\n",
       "      <td>audi 100ls</td>\n",
       "      <td>gas</td>\n",
       "      <td>std</td>\n",
       "      <td>four</td>\n",
       "      <td>sedan</td>\n",
       "      <td>4wd</td>\n",
       "      <td>front</td>\n",
       "      <td>99.4</td>\n",
       "      <td>...</td>\n",
       "      <td>136</td>\n",
       "      <td>mpfi</td>\n",
       "      <td>3.19</td>\n",
       "      <td>3.40</td>\n",
       "      <td>8.0</td>\n",
       "      <td>115</td>\n",
       "      <td>5500</td>\n",
       "      <td>18</td>\n",
       "      <td>22</td>\n",
       "      <td>17450.0</td>\n",
       "    </tr>\n",
       "    <tr>\n",
       "      <th>...</th>\n",
       "      <td>...</td>\n",
       "      <td>...</td>\n",
       "      <td>...</td>\n",
       "      <td>...</td>\n",
       "      <td>...</td>\n",
       "      <td>...</td>\n",
       "      <td>...</td>\n",
       "      <td>...</td>\n",
       "      <td>...</td>\n",
       "      <td>...</td>\n",
       "      <td>...</td>\n",
       "      <td>...</td>\n",
       "      <td>...</td>\n",
       "      <td>...</td>\n",
       "      <td>...</td>\n",
       "      <td>...</td>\n",
       "      <td>...</td>\n",
       "      <td>...</td>\n",
       "      <td>...</td>\n",
       "      <td>...</td>\n",
       "      <td>...</td>\n",
       "    </tr>\n",
       "    <tr>\n",
       "      <th>200</th>\n",
       "      <td>201</td>\n",
       "      <td>-1</td>\n",
       "      <td>volvo 145e (sw)</td>\n",
       "      <td>gas</td>\n",
       "      <td>std</td>\n",
       "      <td>four</td>\n",
       "      <td>sedan</td>\n",
       "      <td>rwd</td>\n",
       "      <td>front</td>\n",
       "      <td>109.1</td>\n",
       "      <td>...</td>\n",
       "      <td>141</td>\n",
       "      <td>mpfi</td>\n",
       "      <td>3.78</td>\n",
       "      <td>3.15</td>\n",
       "      <td>9.5</td>\n",
       "      <td>114</td>\n",
       "      <td>5400</td>\n",
       "      <td>23</td>\n",
       "      <td>28</td>\n",
       "      <td>16845.0</td>\n",
       "    </tr>\n",
       "    <tr>\n",
       "      <th>201</th>\n",
       "      <td>202</td>\n",
       "      <td>-1</td>\n",
       "      <td>volvo 144ea</td>\n",
       "      <td>gas</td>\n",
       "      <td>turbo</td>\n",
       "      <td>four</td>\n",
       "      <td>sedan</td>\n",
       "      <td>rwd</td>\n",
       "      <td>front</td>\n",
       "      <td>109.1</td>\n",
       "      <td>...</td>\n",
       "      <td>141</td>\n",
       "      <td>mpfi</td>\n",
       "      <td>3.78</td>\n",
       "      <td>3.15</td>\n",
       "      <td>8.7</td>\n",
       "      <td>160</td>\n",
       "      <td>5300</td>\n",
       "      <td>19</td>\n",
       "      <td>25</td>\n",
       "      <td>19045.0</td>\n",
       "    </tr>\n",
       "    <tr>\n",
       "      <th>202</th>\n",
       "      <td>203</td>\n",
       "      <td>-1</td>\n",
       "      <td>volvo 244dl</td>\n",
       "      <td>gas</td>\n",
       "      <td>std</td>\n",
       "      <td>four</td>\n",
       "      <td>sedan</td>\n",
       "      <td>rwd</td>\n",
       "      <td>front</td>\n",
       "      <td>109.1</td>\n",
       "      <td>...</td>\n",
       "      <td>173</td>\n",
       "      <td>mpfi</td>\n",
       "      <td>3.58</td>\n",
       "      <td>2.87</td>\n",
       "      <td>8.8</td>\n",
       "      <td>134</td>\n",
       "      <td>5500</td>\n",
       "      <td>18</td>\n",
       "      <td>23</td>\n",
       "      <td>21485.0</td>\n",
       "    </tr>\n",
       "    <tr>\n",
       "      <th>203</th>\n",
       "      <td>204</td>\n",
       "      <td>-1</td>\n",
       "      <td>volvo 246</td>\n",
       "      <td>diesel</td>\n",
       "      <td>turbo</td>\n",
       "      <td>four</td>\n",
       "      <td>sedan</td>\n",
       "      <td>rwd</td>\n",
       "      <td>front</td>\n",
       "      <td>109.1</td>\n",
       "      <td>...</td>\n",
       "      <td>145</td>\n",
       "      <td>idi</td>\n",
       "      <td>3.01</td>\n",
       "      <td>3.40</td>\n",
       "      <td>23.0</td>\n",
       "      <td>106</td>\n",
       "      <td>4800</td>\n",
       "      <td>26</td>\n",
       "      <td>27</td>\n",
       "      <td>22470.0</td>\n",
       "    </tr>\n",
       "    <tr>\n",
       "      <th>204</th>\n",
       "      <td>205</td>\n",
       "      <td>-1</td>\n",
       "      <td>volvo 264gl</td>\n",
       "      <td>gas</td>\n",
       "      <td>turbo</td>\n",
       "      <td>four</td>\n",
       "      <td>sedan</td>\n",
       "      <td>rwd</td>\n",
       "      <td>front</td>\n",
       "      <td>109.1</td>\n",
       "      <td>...</td>\n",
       "      <td>141</td>\n",
       "      <td>mpfi</td>\n",
       "      <td>3.78</td>\n",
       "      <td>3.15</td>\n",
       "      <td>9.5</td>\n",
       "      <td>114</td>\n",
       "      <td>5400</td>\n",
       "      <td>19</td>\n",
       "      <td>25</td>\n",
       "      <td>22625.0</td>\n",
       "    </tr>\n",
       "  </tbody>\n",
       "</table>\n",
       "<p>205 rows × 26 columns</p>\n",
       "</div>"
      ],
      "text/plain": [
       "     car_ID  symboling                   CarName fueltype aspiration  \\\n",
       "0         1          3        alfa-romero giulia      gas        std   \n",
       "1         2          3       alfa-romero stelvio      gas        std   \n",
       "2         3          1  alfa-romero Quadrifoglio      gas        std   \n",
       "3         4          2               audi 100 ls      gas        std   \n",
       "4         5          2                audi 100ls      gas        std   \n",
       "..      ...        ...                       ...      ...        ...   \n",
       "200     201         -1           volvo 145e (sw)      gas        std   \n",
       "201     202         -1               volvo 144ea      gas      turbo   \n",
       "202     203         -1               volvo 244dl      gas        std   \n",
       "203     204         -1                 volvo 246   diesel      turbo   \n",
       "204     205         -1               volvo 264gl      gas      turbo   \n",
       "\n",
       "    doornumber      carbody drivewheel enginelocation  wheelbase  ...  \\\n",
       "0          two  convertible        rwd          front       88.6  ...   \n",
       "1          two  convertible        rwd          front       88.6  ...   \n",
       "2          two    hatchback        rwd          front       94.5  ...   \n",
       "3         four        sedan        fwd          front       99.8  ...   \n",
       "4         four        sedan        4wd          front       99.4  ...   \n",
       "..         ...          ...        ...            ...        ...  ...   \n",
       "200       four        sedan        rwd          front      109.1  ...   \n",
       "201       four        sedan        rwd          front      109.1  ...   \n",
       "202       four        sedan        rwd          front      109.1  ...   \n",
       "203       four        sedan        rwd          front      109.1  ...   \n",
       "204       four        sedan        rwd          front      109.1  ...   \n",
       "\n",
       "     enginesize  fuelsystem  boreratio  stroke compressionratio horsepower  \\\n",
       "0           130        mpfi       3.47    2.68              9.0        111   \n",
       "1           130        mpfi       3.47    2.68              9.0        111   \n",
       "2           152        mpfi       2.68    3.47              9.0        154   \n",
       "3           109        mpfi       3.19    3.40             10.0        102   \n",
       "4           136        mpfi       3.19    3.40              8.0        115   \n",
       "..          ...         ...        ...     ...              ...        ...   \n",
       "200         141        mpfi       3.78    3.15              9.5        114   \n",
       "201         141        mpfi       3.78    3.15              8.7        160   \n",
       "202         173        mpfi       3.58    2.87              8.8        134   \n",
       "203         145         idi       3.01    3.40             23.0        106   \n",
       "204         141        mpfi       3.78    3.15              9.5        114   \n",
       "\n",
       "     peakrpm citympg  highwaympg    price  \n",
       "0       5000      21          27  13495.0  \n",
       "1       5000      21          27  16500.0  \n",
       "2       5000      19          26  16500.0  \n",
       "3       5500      24          30  13950.0  \n",
       "4       5500      18          22  17450.0  \n",
       "..       ...     ...         ...      ...  \n",
       "200     5400      23          28  16845.0  \n",
       "201     5300      19          25  19045.0  \n",
       "202     5500      18          23  21485.0  \n",
       "203     4800      26          27  22470.0  \n",
       "204     5400      19          25  22625.0  \n",
       "\n",
       "[205 rows x 26 columns]"
      ]
     },
     "execution_count": 6,
     "metadata": {},
     "output_type": "execute_result"
    }
   ],
   "source": [
    "car_df"
   ]
  },
  {
   "cell_type": "code",
   "execution_count": 7,
   "id": "b59492ea",
   "metadata": {},
   "outputs": [
    {
     "data": {
      "text/plain": [
       "(205, 26)"
      ]
     },
     "execution_count": 7,
     "metadata": {},
     "output_type": "execute_result"
    }
   ],
   "source": [
    "car_df.shape"
   ]
  },
  {
   "cell_type": "code",
   "execution_count": 8,
   "id": "2517d540",
   "metadata": {},
   "outputs": [
    {
     "data": {
      "text/plain": [
       "Index(['car_ID', 'symboling', 'CarName', 'fueltype', 'aspiration',\n",
       "       'doornumber', 'carbody', 'drivewheel', 'enginelocation', 'wheelbase',\n",
       "       'carlength', 'carwidth', 'carheight', 'curbweight', 'enginetype',\n",
       "       'cylindernumber', 'enginesize', 'fuelsystem', 'boreratio', 'stroke',\n",
       "       'compressionratio', 'horsepower', 'peakrpm', 'citympg', 'highwaympg',\n",
       "       'price'],\n",
       "      dtype='object')"
      ]
     },
     "execution_count": 8,
     "metadata": {},
     "output_type": "execute_result"
    }
   ],
   "source": [
    "car_df.columns"
   ]
  },
  {
   "cell_type": "code",
   "execution_count": 10,
   "id": "76e4423b",
   "metadata": {},
   "outputs": [
    {
     "name": "stdout",
     "output_type": "stream",
     "text": [
      "<class 'pandas.core.frame.DataFrame'>\n",
      "RangeIndex: 205 entries, 0 to 204\n",
      "Data columns (total 26 columns):\n",
      " #   Column            Non-Null Count  Dtype  \n",
      "---  ------            --------------  -----  \n",
      " 0   car_ID            205 non-null    int64  \n",
      " 1   symboling         205 non-null    int64  \n",
      " 2   CarName           205 non-null    object \n",
      " 3   fueltype          205 non-null    object \n",
      " 4   aspiration        205 non-null    object \n",
      " 5   doornumber        205 non-null    object \n",
      " 6   carbody           205 non-null    object \n",
      " 7   drivewheel        205 non-null    object \n",
      " 8   enginelocation    205 non-null    object \n",
      " 9   wheelbase         205 non-null    float64\n",
      " 10  carlength         205 non-null    float64\n",
      " 11  carwidth          205 non-null    float64\n",
      " 12  carheight         205 non-null    float64\n",
      " 13  curbweight        205 non-null    int64  \n",
      " 14  enginetype        205 non-null    object \n",
      " 15  cylindernumber    205 non-null    object \n",
      " 16  enginesize        205 non-null    int64  \n",
      " 17  fuelsystem        205 non-null    object \n",
      " 18  boreratio         205 non-null    float64\n",
      " 19  stroke            205 non-null    float64\n",
      " 20  compressionratio  205 non-null    float64\n",
      " 21  horsepower        205 non-null    int64  \n",
      " 22  peakrpm           205 non-null    int64  \n",
      " 23  citympg           205 non-null    int64  \n",
      " 24  highwaympg        205 non-null    int64  \n",
      " 25  price             205 non-null    float64\n",
      "dtypes: float64(8), int64(8), object(10)\n",
      "memory usage: 41.8+ KB\n"
     ]
    }
   ],
   "source": [
    "car_df.info()"
   ]
  },
  {
   "cell_type": "code",
   "execution_count": 28,
   "id": "751f0bb8",
   "metadata": {},
   "outputs": [
    {
     "data": {
      "text/plain": [
       "array([<AxesSubplot:ylabel='None'>], dtype=object)"
      ]
     },
     "execution_count": 28,
     "metadata": {},
     "output_type": "execute_result"
    },
    {
     "data": {
      "image/png": "[encoded data removed]",
      "text/plain": [
       "<Figure size 1100x600 with 1 Axes>"
      ]
     },
     "metadata": {},
     "output_type": "display_data"
    }
   ],
   "source": [
    "car_df[[\"symboling\"]].value_counts().plot.pie(subplots=True, autopct='%1.1f%%',figsize=(11, 6))"
   ]
  },
  {
   "cell_type": "code",
   "execution_count": 13,
   "id": "4cd0e6b2",
   "metadata": {},
   "outputs": [
    {
     "data": {
      "text/plain": [
       "<AxesSubplot:xlabel='fueltype'>"
      ]
     },
     "execution_count": 13,
     "metadata": {},
     "output_type": "execute_result"
    },
    {
     "data": {
      "image/png": "[encoded data removed]",
      "text/plain": [
       "<Figure size 640x480 with 1 Axes>"
      ]
     },
     "metadata": {},
     "output_type": "display_data"
    }
   ],
   "source": [
    "car_df[[\"fueltype\"]].value_counts().plot(kind=\"bar\")"
   ]
  },
  {
   "cell_type": "code",
   "execution_count": 27,
   "id": "7644b74f",
   "metadata": {},
   "outputs": [
    {
     "data": {
      "text/plain": [
       "array([<AxesSubplot:ylabel='None'>], dtype=object)"
      ]
     },
     "execution_count": 27,
     "metadata": {},
     "output_type": "execute_result"
    },
    {
     "data": {
      "image/png": "[encoded data removed]",
      "text/plain": [
       "<Figure size 640x480 with 1 Axes>"
      ]
     },
     "metadata": {},
     "output_type": "display_data"
    }
   ],
   "source": [
    "car_df[[\"aspiration\"]].value_counts().plot.pie(subplots=True,autopct='%1.1f%%')"
   ]
  },
  {
   "cell_type": "code",
   "execution_count": 22,
   "id": "d584e61b",
   "metadata": {},
   "outputs": [
    {
     "data": {
      "text/plain": [
       "Index(['car_ID', 'symboling', 'CarName', 'fueltype', 'aspiration',\n",
       "       'doornumber', 'carbody', 'drivewheel', 'enginelocation', 'wheelbase',\n",
       "       'carlength', 'carwidth', 'carheight', 'curbweight', 'enginetype',\n",
       "       'cylindernumber', 'enginesize', 'fuelsystem', 'boreratio', 'stroke',\n",
       "       'compressionratio', 'horsepower', 'peakrpm', 'citympg', 'highwaympg',\n",
       "       'price'],\n",
       "      dtype='object')"
      ]
     },
     "execution_count": 22,
     "metadata": {},
     "output_type": "execute_result"
    }
   ],
   "source": [
    "car_df.columns"
   ]
  },
  {
   "cell_type": "code",
   "execution_count": 17,
   "id": "4c8e5ad0",
   "metadata": {},
   "outputs": [
    {
     "data": {
      "text/plain": [
       "doornumber\n",
       "four          115\n",
       "two            90\n",
       "dtype: int64"
      ]
     },
     "execution_count": 17,
     "metadata": {},
     "output_type": "execute_result"
    }
   ],
   "source": [
    "car_df[[\"doornumber\"]].value_counts()"
   ]
  },
  {
   "cell_type": "code",
   "execution_count": 26,
   "id": "7e6f4933",
   "metadata": {},
   "outputs": [
    {
     "data": {
      "text/plain": [
       "array([<AxesSubplot:ylabel='None'>], dtype=object)"
      ]
     },
     "execution_count": 26,
     "metadata": {},
     "output_type": "execute_result"
    },
    {
     "data": {
      "image/png": "[encoded data removed]",
      "text/plain": [
       "<Figure size 640x480 with 1 Axes>"
      ]
     },
     "metadata": {},
     "output_type": "display_data"
    }
   ],
   "source": [
    "car_df[[\"carbody\"]].value_counts().plot.pie(subplots=True, autopct='%1.1f%%', pctdistance=0.85)"
   ]
  },
  {
   "cell_type": "code",
   "execution_count": 25,
   "id": "bbf0cdc5",
   "metadata": {},
   "outputs": [
    {
     "data": {
      "text/plain": [
       "drivewheel\n",
       "fwd           120\n",
       "rwd            76\n",
       "4wd             9\n",
       "dtype: int64"
      ]
     },
     "execution_count": 25,
     "metadata": {},
     "output_type": "execute_result"
    }
   ],
   "source": [
    "car_df[[\"drivewheel\"]].value_counts()"
   ]
  },
  {
   "cell_type": "code",
   "execution_count": 26,
   "id": "2b01550f",
   "metadata": {},
   "outputs": [
    {
     "data": {
      "text/plain": [
       "enginelocation\n",
       "front             202\n",
       "rear                3\n",
       "dtype: int64"
      ]
     },
     "execution_count": 26,
     "metadata": {},
     "output_type": "execute_result"
    }
   ],
   "source": [
    "car_df[[\"enginelocation\"]].value_counts()"
   ]
  },
  {
   "cell_type": "code",
   "execution_count": 29,
   "id": "bda2a187",
   "metadata": {},
   "outputs": [
    {
     "data": {
      "text/plain": [
       "array([<AxesSubplot:ylabel='None'>], dtype=object)"
      ]
     },
     "execution_count": 29,
     "metadata": {},
     "output_type": "execute_result"
    },
    {
     "data": {
      "image/png": "[encoded data removed]",
      "text/plain": [
       "<Figure size 640x480 with 1 Axes>"
      ]
     },
     "metadata": {},
     "output_type": "display_data"
    }
   ],
   "source": [
    "car_df[[\"enginetype\"]].value_counts().plot.pie(subplots=True, autopct='%1.1f%%', pctdistance=0.85)"
   ]
  },
  {
   "cell_type": "code",
   "execution_count": 30,
   "id": "a048a629",
   "metadata": {},
   "outputs": [
    {
     "data": {
      "text/plain": [
       "array([<AxesSubplot:ylabel='None'>], dtype=object)"
      ]
     },
     "execution_count": 30,
     "metadata": {},
     "output_type": "execute_result"
    },
    {
     "data": {
      "image/png": "[encoded data removed]",
      "text/plain": [
       "<Figure size 640x480 with 1 Axes>"
      ]
     },
     "metadata": {},
     "output_type": "display_data"
    }
   ],
   "source": [
    "car_df[['cylindernumber']].value_counts().plot.pie(subplots=True, autopct='%1.1f%%', pctdistance=0.85)"
   ]
  },
  {
   "cell_type": "code",
   "execution_count": 31,
   "id": "6f35b46b",
   "metadata": {},
   "outputs": [
    {
     "data": {
      "text/plain": [
       "array([<AxesSubplot:ylabel='None'>], dtype=object)"
      ]
     },
     "execution_count": 31,
     "metadata": {},
     "output_type": "execute_result"
    },
    {
     "data": {
      "image/png": "[encoded data removed]",
      "text/plain": [
       "<Figure size 640x480 with 1 Axes>"
      ]
     },
     "metadata": {},
     "output_type": "display_data"
    }
   ],
   "source": [
    "car_df[['fuelsystem']].value_counts().plot.pie(subplots=True, autopct='%1.1f%%', pctdistance=0.85)"
   ]
  },
  {
   "cell_type": "code",
   "execution_count": 36,
   "id": "2b0e9d8d",
   "metadata": {},
   "outputs": [
    {
     "data": {
      "text/plain": [
       "compressionratio\n",
       "9.00                46\n",
       "9.40                26\n",
       "8.50                14\n",
       "9.50                13\n",
       "9.30                11\n",
       "8.70                 9\n",
       "9.20                 8\n",
       "8.00                 8\n",
       "7.00                 7\n",
       "8.40                 5\n",
       "7.50                 5\n",
       "21.00                5\n",
       "9.60                 5\n",
       "8.60                 5\n",
       "23.00                5\n",
       "7.60                 4\n",
       "21.50                4\n",
       "22.50                3\n",
       "8.80                 3\n",
       "10.00                3\n",
       "8.30                 3\n",
       "7.70                 2\n",
       "8.10                 2\n",
       "22.70                1\n",
       "22.00                1\n",
       "21.90                1\n",
       "7.80                 1\n",
       "11.50                1\n",
       "9.10                 1\n",
       "9.41                 1\n",
       "9.31                 1\n",
       "10.10                1\n",
       "dtype: int64"
      ]
     },
     "execution_count": 36,
     "metadata": {},
     "output_type": "execute_result"
    }
   ],
   "source": [
    "car_df[['compressionratio']].value_counts()"
   ]
  },
  {
   "cell_type": "code",
   "execution_count": 41,
   "id": "57f056f7",
   "metadata": {},
   "outputs": [
    {
     "data": {
      "text/plain": [
       "highwaympg\n",
       "25            19\n",
       "38            17\n",
       "24            17\n",
       "30            16\n",
       "32            16\n",
       "34            14\n",
       "28            13\n",
       "37            13\n",
       "29            10\n",
       "33             9\n",
       "22             8\n",
       "31             8\n",
       "23             7\n",
       "27             5\n",
       "43             4\n",
       "26             3\n",
       "42             3\n",
       "41             3\n",
       "46             2\n",
       "39             2\n",
       "47             2\n",
       "16             2\n",
       "36             2\n",
       "20             2\n",
       "19             2\n",
       "18             2\n",
       "17             1\n",
       "50             1\n",
       "53             1\n",
       "54             1\n",
       "dtype: int64"
      ]
     },
     "execution_count": 41,
     "metadata": {},
     "output_type": "execute_result"
    }
   ],
   "source": [
    "car_df[['highwaympg']].value_counts()"
   ]
  },
  {
   "cell_type": "code",
   "execution_count": null,
   "id": "c3f1abaf",
   "metadata": {},
   "outputs": [],
   "source": []
  },
  {
   "cell_type": "code",
   "execution_count": 60,
   "id": "0a752b4b",
   "metadata": {},
   "outputs": [
    {
     "data": {
      "text/html": [
       "<div>\n",
       "<style scoped>\n",
       "    .dataframe tbody tr th:only-of-type {\n",
       "        vertical-align: middle;\n",
       "    }\n",
       "\n",
       "    .dataframe tbody tr th {\n",
       "        vertical-align: top;\n",
       "    }\n",
       "\n",
       "    .dataframe thead th {\n",
       "        text-align: right;\n",
       "    }\n",
       "</style>\n",
       "<table border=\"1\" class=\"dataframe\">\n",
       "  <thead>\n",
       "    <tr style=\"text-align: right;\">\n",
       "      <th></th>\n",
       "      <th>car_ID</th>\n",
       "      <th>symboling</th>\n",
       "      <th>CarName</th>\n",
       "      <th>fueltype</th>\n",
       "      <th>aspiration</th>\n",
       "      <th>doornumber</th>\n",
       "      <th>carbody</th>\n",
       "      <th>drivewheel</th>\n",
       "      <th>enginelocation</th>\n",
       "      <th>wheelbase</th>\n",
       "      <th>...</th>\n",
       "      <th>enginesize</th>\n",
       "      <th>fuelsystem</th>\n",
       "      <th>boreratio</th>\n",
       "      <th>stroke</th>\n",
       "      <th>compressionratio</th>\n",
       "      <th>horsepower</th>\n",
       "      <th>peakrpm</th>\n",
       "      <th>citympg</th>\n",
       "      <th>highwaympg</th>\n",
       "      <th>price</th>\n",
       "    </tr>\n",
       "  </thead>\n",
       "  <tbody>\n",
       "    <tr>\n",
       "      <th>0</th>\n",
       "      <td>1</td>\n",
       "      <td>3</td>\n",
       "      <td>alfa-romero giulia</td>\n",
       "      <td>gas</td>\n",
       "      <td>std</td>\n",
       "      <td>two</td>\n",
       "      <td>convertible</td>\n",
       "      <td>rwd</td>\n",
       "      <td>front</td>\n",
       "      <td>88.6</td>\n",
       "      <td>...</td>\n",
       "      <td>130</td>\n",
       "      <td>mpfi</td>\n",
       "      <td>3.47</td>\n",
       "      <td>2.68</td>\n",
       "      <td>9.0</td>\n",
       "      <td>111</td>\n",
       "      <td>5000</td>\n",
       "      <td>21</td>\n",
       "      <td>27</td>\n",
       "      <td>13495.0</td>\n",
       "    </tr>\n",
       "    <tr>\n",
       "      <th>1</th>\n",
       "      <td>2</td>\n",
       "      <td>3</td>\n",
       "      <td>alfa-romero stelvio</td>\n",
       "      <td>gas</td>\n",
       "      <td>std</td>\n",
       "      <td>two</td>\n",
       "      <td>convertible</td>\n",
       "      <td>rwd</td>\n",
       "      <td>front</td>\n",
       "      <td>88.6</td>\n",
       "      <td>...</td>\n",
       "      <td>130</td>\n",
       "      <td>mpfi</td>\n",
       "      <td>3.47</td>\n",
       "      <td>2.68</td>\n",
       "      <td>9.0</td>\n",
       "      <td>111</td>\n",
       "      <td>5000</td>\n",
       "      <td>21</td>\n",
       "      <td>27</td>\n",
       "      <td>16500.0</td>\n",
       "    </tr>\n",
       "    <tr>\n",
       "      <th>2</th>\n",
       "      <td>3</td>\n",
       "      <td>1</td>\n",
       "      <td>alfa-romero Quadrifoglio</td>\n",
       "      <td>gas</td>\n",
       "      <td>std</td>\n",
       "      <td>two</td>\n",
       "      <td>hatchback</td>\n",
       "      <td>rwd</td>\n",
       "      <td>front</td>\n",
       "      <td>94.5</td>\n",
       "      <td>...</td>\n",
       "      <td>152</td>\n",
       "      <td>mpfi</td>\n",
       "      <td>2.68</td>\n",
       "      <td>3.47</td>\n",
       "      <td>9.0</td>\n",
       "      <td>154</td>\n",
       "      <td>5000</td>\n",
       "      <td>19</td>\n",
       "      <td>26</td>\n",
       "      <td>16500.0</td>\n",
       "    </tr>\n",
       "    <tr>\n",
       "      <th>3</th>\n",
       "      <td>4</td>\n",
       "      <td>2</td>\n",
       "      <td>audi 100 ls</td>\n",
       "      <td>gas</td>\n",
       "      <td>std</td>\n",
       "      <td>four</td>\n",
       "      <td>sedan</td>\n",
       "      <td>fwd</td>\n",
       "      <td>front</td>\n",
       "      <td>99.8</td>\n",
       "      <td>...</td>\n",
       "      <td>109</td>\n",
       "      <td>mpfi</td>\n",
       "      <td>3.19</td>\n",
       "      <td>3.40</td>\n",
       "      <td>10.0</td>\n",
       "      <td>102</td>\n",
       "      <td>5500</td>\n",
       "      <td>24</td>\n",
       "      <td>30</td>\n",
       "      <td>13950.0</td>\n",
       "    </tr>\n",
       "    <tr>\n",
       "      <th>4</th>\n",
       "      <td>5</td>\n",
       "      <td>2</td>\n",
       "      <td>audi 100ls</td>\n",
       "      <td>gas</td>\n",
       "      <td>std</td>\n",
       "      <td>four</td>\n",
       "      <td>sedan</td>\n",
       "      <td>4wd</td>\n",
       "      <td>front</td>\n",
       "      <td>99.4</td>\n",
       "      <td>...</td>\n",
       "      <td>136</td>\n",
       "      <td>mpfi</td>\n",
       "      <td>3.19</td>\n",
       "      <td>3.40</td>\n",
       "      <td>8.0</td>\n",
       "      <td>115</td>\n",
       "      <td>5500</td>\n",
       "      <td>18</td>\n",
       "      <td>22</td>\n",
       "      <td>17450.0</td>\n",
       "    </tr>\n",
       "    <tr>\n",
       "      <th>...</th>\n",
       "      <td>...</td>\n",
       "      <td>...</td>\n",
       "      <td>...</td>\n",
       "      <td>...</td>\n",
       "      <td>...</td>\n",
       "      <td>...</td>\n",
       "      <td>...</td>\n",
       "      <td>...</td>\n",
       "      <td>...</td>\n",
       "      <td>...</td>\n",
       "      <td>...</td>\n",
       "      <td>...</td>\n",
       "      <td>...</td>\n",
       "      <td>...</td>\n",
       "      <td>...</td>\n",
       "      <td>...</td>\n",
       "      <td>...</td>\n",
       "      <td>...</td>\n",
       "      <td>...</td>\n",
       "      <td>...</td>\n",
       "      <td>...</td>\n",
       "    </tr>\n",
       "    <tr>\n",
       "      <th>200</th>\n",
       "      <td>201</td>\n",
       "      <td>-1</td>\n",
       "      <td>volvo 145e (sw)</td>\n",
       "      <td>gas</td>\n",
       "      <td>std</td>\n",
       "      <td>four</td>\n",
       "      <td>sedan</td>\n",
       "      <td>rwd</td>\n",
       "      <td>front</td>\n",
       "      <td>109.1</td>\n",
       "      <td>...</td>\n",
       "      <td>141</td>\n",
       "      <td>mpfi</td>\n",
       "      <td>3.78</td>\n",
       "      <td>3.15</td>\n",
       "      <td>9.5</td>\n",
       "      <td>114</td>\n",
       "      <td>5400</td>\n",
       "      <td>23</td>\n",
       "      <td>28</td>\n",
       "      <td>16845.0</td>\n",
       "    </tr>\n",
       "    <tr>\n",
       "      <th>201</th>\n",
       "      <td>202</td>\n",
       "      <td>-1</td>\n",
       "      <td>volvo 144ea</td>\n",
       "      <td>gas</td>\n",
       "      <td>turbo</td>\n",
       "      <td>four</td>\n",
       "      <td>sedan</td>\n",
       "      <td>rwd</td>\n",
       "      <td>front</td>\n",
       "      <td>109.1</td>\n",
       "      <td>...</td>\n",
       "      <td>141</td>\n",
       "      <td>mpfi</td>\n",
       "      <td>3.78</td>\n",
       "      <td>3.15</td>\n",
       "      <td>8.7</td>\n",
       "      <td>160</td>\n",
       "      <td>5300</td>\n",
       "      <td>19</td>\n",
       "      <td>25</td>\n",
       "      <td>19045.0</td>\n",
       "    </tr>\n",
       "    <tr>\n",
       "      <th>202</th>\n",
       "      <td>203</td>\n",
       "      <td>-1</td>\n",
       "      <td>volvo 244dl</td>\n",
       "      <td>gas</td>\n",
       "      <td>std</td>\n",
       "      <td>four</td>\n",
       "      <td>sedan</td>\n",
       "      <td>rwd</td>\n",
       "      <td>front</td>\n",
       "      <td>109.1</td>\n",
       "      <td>...</td>\n",
       "      <td>173</td>\n",
       "      <td>mpfi</td>\n",
       "      <td>3.58</td>\n",
       "      <td>2.87</td>\n",
       "      <td>8.8</td>\n",
       "      <td>134</td>\n",
       "      <td>5500</td>\n",
       "      <td>18</td>\n",
       "      <td>23</td>\n",
       "      <td>21485.0</td>\n",
       "    </tr>\n",
       "    <tr>\n",
       "      <th>203</th>\n",
       "      <td>204</td>\n",
       "      <td>-1</td>\n",
       "      <td>volvo 246</td>\n",
       "      <td>diesel</td>\n",
       "      <td>turbo</td>\n",
       "      <td>four</td>\n",
       "      <td>sedan</td>\n",
       "      <td>rwd</td>\n",
       "      <td>front</td>\n",
       "      <td>109.1</td>\n",
       "      <td>...</td>\n",
       "      <td>145</td>\n",
       "      <td>idi</td>\n",
       "      <td>3.01</td>\n",
       "      <td>3.40</td>\n",
       "      <td>23.0</td>\n",
       "      <td>106</td>\n",
       "      <td>4800</td>\n",
       "      <td>26</td>\n",
       "      <td>27</td>\n",
       "      <td>22470.0</td>\n",
       "    </tr>\n",
       "    <tr>\n",
       "      <th>204</th>\n",
       "      <td>205</td>\n",
       "      <td>-1</td>\n",
       "      <td>volvo 264gl</td>\n",
       "      <td>gas</td>\n",
       "      <td>turbo</td>\n",
       "      <td>four</td>\n",
       "      <td>sedan</td>\n",
       "      <td>rwd</td>\n",
       "      <td>front</td>\n",
       "      <td>109.1</td>\n",
       "      <td>...</td>\n",
       "      <td>141</td>\n",
       "      <td>mpfi</td>\n",
       "      <td>3.78</td>\n",
       "      <td>3.15</td>\n",
       "      <td>9.5</td>\n",
       "      <td>114</td>\n",
       "      <td>5400</td>\n",
       "      <td>19</td>\n",
       "      <td>25</td>\n",
       "      <td>22625.0</td>\n",
       "    </tr>\n",
       "  </tbody>\n",
       "</table>\n",
       "<p>205 rows × 26 columns</p>\n",
       "</div>"
      ],
      "text/plain": [
       "     car_ID  symboling                   CarName fueltype aspiration  \\\n",
       "0         1          3        alfa-romero giulia      gas        std   \n",
       "1         2          3       alfa-romero stelvio      gas        std   \n",
       "2         3          1  alfa-romero Quadrifoglio      gas        std   \n",
       "3         4          2               audi 100 ls      gas        std   \n",
       "4         5          2                audi 100ls      gas        std   \n",
       "..      ...        ...                       ...      ...        ...   \n",
       "200     201         -1           volvo 145e (sw)      gas        std   \n",
       "201     202         -1               volvo 144ea      gas      turbo   \n",
       "202     203         -1               volvo 244dl      gas        std   \n",
       "203     204         -1                 volvo 246   diesel      turbo   \n",
       "204     205         -1               volvo 264gl      gas      turbo   \n",
       "\n",
       "    doornumber      carbody drivewheel enginelocation  wheelbase  ...  \\\n",
       "0          two  convertible        rwd          front       88.6  ...   \n",
       "1          two  convertible        rwd          front       88.6  ...   \n",
       "2          two    hatchback        rwd          front       94.5  ...   \n",
       "3         four        sedan        fwd          front       99.8  ...   \n",
       "4         four        sedan        4wd          front       99.4  ...   \n",
       "..         ...          ...        ...            ...        ...  ...   \n",
       "200       four        sedan        rwd          front      109.1  ...   \n",
       "201       four        sedan        rwd          front      109.1  ...   \n",
       "202       four        sedan        rwd          front      109.1  ...   \n",
       "203       four        sedan        rwd          front      109.1  ...   \n",
       "204       four        sedan        rwd          front      109.1  ...   \n",
       "\n",
       "     enginesize  fuelsystem  boreratio  stroke compressionratio horsepower  \\\n",
       "0           130        mpfi       3.47    2.68              9.0        111   \n",
       "1           130        mpfi       3.47    2.68              9.0        111   \n",
       "2           152        mpfi       2.68    3.47              9.0        154   \n",
       "3           109        mpfi       3.19    3.40             10.0        102   \n",
       "4           136        mpfi       3.19    3.40              8.0        115   \n",
       "..          ...         ...        ...     ...              ...        ...   \n",
       "200         141        mpfi       3.78    3.15              9.5        114   \n",
       "201         141        mpfi       3.78    3.15              8.7        160   \n",
       "202         173        mpfi       3.58    2.87              8.8        134   \n",
       "203         145         idi       3.01    3.40             23.0        106   \n",
       "204         141        mpfi       3.78    3.15              9.5        114   \n",
       "\n",
       "     peakrpm citympg  highwaympg    price  \n",
       "0       5000      21          27  13495.0  \n",
       "1       5000      21          27  16500.0  \n",
       "2       5000      19          26  16500.0  \n",
       "3       5500      24          30  13950.0  \n",
       "4       5500      18          22  17450.0  \n",
       "..       ...     ...         ...      ...  \n",
       "200     5400      23          28  16845.0  \n",
       "201     5300      19          25  19045.0  \n",
       "202     5500      18          23  21485.0  \n",
       "203     4800      26          27  22470.0  \n",
       "204     5400      19          25  22625.0  \n",
       "\n",
       "[205 rows x 26 columns]"
      ]
     },
     "execution_count": 60,
     "metadata": {},
     "output_type": "execute_result"
    }
   ],
   "source": [
    "car_df"
   ]
  },
  {
   "cell_type": "markdown",
   "id": "ebfc2957",
   "metadata": {},
   "source": [
    "## One Hot Encoding"
   ]
  },
  {
   "cell_type": "code",
   "execution_count": 116,
   "id": "fff4b650",
   "metadata": {},
   "outputs": [],
   "source": [
    "new_car_df=pd.get_dummies(car_df, columns=[\"fueltype\",\"aspiration\",\"doornumber\",\"carbody\",\"drivewheel\",\"enginelocation\",\"enginetype\",\"cylindernumber\",\"fuelsystem\"])"
   ]
  },
  {
   "cell_type": "code",
   "execution_count": 117,
   "id": "2bd6d064",
   "metadata": {},
   "outputs": [
    {
     "data": {
      "text/plain": [
       "(205, 55)"
      ]
     },
     "execution_count": 117,
     "metadata": {},
     "output_type": "execute_result"
    }
   ],
   "source": [
    "new_car_df.shape"
   ]
  },
  {
   "cell_type": "markdown",
   "id": "abd250d2",
   "metadata": {},
   "source": [
    "## label encoding using replace function"
   ]
  },
  {
   "cell_type": "code",
   "execution_count": 118,
   "id": "9e8bde05",
   "metadata": {},
   "outputs": [],
   "source": [
    "new_car_df=new_car_df.replace({\"symboling\":{-2:1,-1:2,0:3,1:4,2:5,3:6}})"
   ]
  },
  {
   "cell_type": "code",
   "execution_count": 119,
   "id": "bd6aed9f",
   "metadata": {},
   "outputs": [
    {
     "data": {
      "text/plain": [
       "3    67\n",
       "4    54\n",
       "5    32\n",
       "6    27\n",
       "2    22\n",
       "1     3\n",
       "Name: symboling, dtype: int64"
      ]
     },
     "execution_count": 119,
     "metadata": {},
     "output_type": "execute_result"
    }
   ],
   "source": [
    "new_car_df[\"symboling\"].value_counts()"
   ]
  },
  {
   "cell_type": "code",
   "execution_count": 120,
   "id": "7dbc425f",
   "metadata": {},
   "outputs": [
    {
     "data": {
      "text/plain": [
       " 0    67\n",
       " 1    54\n",
       " 2    32\n",
       " 3    27\n",
       "-1    22\n",
       "-2     3\n",
       "Name: symboling, dtype: int64"
      ]
     },
     "execution_count": 120,
     "metadata": {},
     "output_type": "execute_result"
    }
   ],
   "source": [
    "car_df[\"symboling\"].value_counts()"
   ]
  },
  {
   "cell_type": "code",
   "execution_count": 121,
   "id": "68d1062c",
   "metadata": {},
   "outputs": [],
   "source": [
    "new_car_df=pd.get_dummies(new_car_df, columns=[\"symboling\"])"
   ]
  },
  {
   "cell_type": "code",
   "execution_count": 122,
   "id": "18eb949b",
   "metadata": {},
   "outputs": [
    {
     "data": {
      "text/plain": [
       "(205, 60)"
      ]
     },
     "execution_count": 122,
     "metadata": {},
     "output_type": "execute_result"
    }
   ],
   "source": [
    "new_car_df.shape"
   ]
  },
  {
   "cell_type": "markdown",
   "id": "548995fd",
   "metadata": {},
   "source": [
    "## MultiLinear Regression on data set"
   ]
  },
  {
   "cell_type": "code",
   "execution_count": 123,
   "id": "f86ea160",
   "metadata": {},
   "outputs": [],
   "source": [
    "from sklearn.linear_model import LinearRegression\n",
    "import seaborn as sns\n",
    "\n",
    "from sklearn.metrics import mean_squared_error, mean_absolute_error\n",
    "from sklearn import preprocessing"
   ]
  },
  {
   "cell_type": "code",
   "execution_count": 124,
   "id": "f3ecb30b",
   "metadata": {},
   "outputs": [
    {
     "data": {
      "text/plain": [
       "Index(['car_ID', 'CarName', 'wheelbase', 'carlength', 'carwidth', 'carheight',\n",
       "       'curbweight', 'enginesize', 'boreratio', 'stroke', 'compressionratio',\n",
       "       'horsepower', 'peakrpm', 'citympg', 'highwaympg', 'price',\n",
       "       'fueltype_diesel', 'fueltype_gas', 'aspiration_std', 'aspiration_turbo',\n",
       "       'doornumber_four', 'doornumber_two', 'carbody_convertible',\n",
       "       'carbody_hardtop', 'carbody_hatchback', 'carbody_sedan',\n",
       "       'carbody_wagon', 'drivewheel_4wd', 'drivewheel_fwd', 'drivewheel_rwd',\n",
       "       'enginelocation_front', 'enginelocation_rear', 'enginetype_dohc',\n",
       "       'enginetype_dohcv', 'enginetype_l', 'enginetype_ohc', 'enginetype_ohcf',\n",
       "       'enginetype_ohcv', 'enginetype_rotor', 'cylindernumber_eight',\n",
       "       'cylindernumber_five', 'cylindernumber_four', 'cylindernumber_six',\n",
       "       'cylindernumber_three', 'cylindernumber_twelve', 'cylindernumber_two',\n",
       "       'fuelsystem_1bbl', 'fuelsystem_2bbl', 'fuelsystem_4bbl',\n",
       "       'fuelsystem_idi', 'fuelsystem_mfi', 'fuelsystem_mpfi',\n",
       "       'fuelsystem_spdi', 'fuelsystem_spfi', 'symboling_1', 'symboling_2',\n",
       "       'symboling_3', 'symboling_4', 'symboling_5', 'symboling_6'],\n",
       "      dtype='object')"
      ]
     },
     "execution_count": 124,
     "metadata": {},
     "output_type": "execute_result"
    }
   ],
   "source": [
    "new_car_df.columns"
   ]
  },
  {
   "cell_type": "code",
   "execution_count": 126,
   "id": "1cf00c88",
   "metadata": {},
   "outputs": [],
   "source": [
    "x=new_car_df.drop([\"price\",'CarName','compressionratio', 'horsepower', 'peakrpm', 'citympg', 'highwaympg'], axis=1)\n",
    "y=new_car_df[[\"price\"]]"
   ]
  },
  {
   "cell_type": "code",
   "execution_count": 90,
   "id": "d417388a",
   "metadata": {},
   "outputs": [],
   "source": [
    "from sklearn.model_selection import train_test_split\n"
   ]
  },
  {
   "cell_type": "code",
   "execution_count": 127,
   "id": "36b4e21d",
   "metadata": {},
   "outputs": [],
   "source": [
    "X_train,X_test,Y_train, Y_test=train_test_split(x,y,test_size=0.3, random_state=45)"
   ]
  },
  {
   "cell_type": "code",
   "execution_count": 128,
   "id": "06245b04",
   "metadata": {},
   "outputs": [
    {
     "data": {
      "text/plain": [
       "(143, 53)"
      ]
     },
     "execution_count": 128,
     "metadata": {},
     "output_type": "execute_result"
    }
   ],
   "source": [
    "X_train.shape"
   ]
  },
  {
   "cell_type": "code",
   "execution_count": 129,
   "id": "181e1276",
   "metadata": {},
   "outputs": [
    {
     "data": {
      "text/plain": [
       "(143, 1)"
      ]
     },
     "execution_count": 129,
     "metadata": {},
     "output_type": "execute_result"
    }
   ],
   "source": [
    "Y_train.shape"
   ]
  },
  {
   "cell_type": "code",
   "execution_count": 130,
   "id": "03973c80",
   "metadata": {},
   "outputs": [
    {
     "data": {
      "text/plain": [
       "(62, 53)"
      ]
     },
     "execution_count": 130,
     "metadata": {},
     "output_type": "execute_result"
    }
   ],
   "source": [
    "X_test.shape"
   ]
  },
  {
   "cell_type": "code",
   "execution_count": 131,
   "id": "18f774d4",
   "metadata": {},
   "outputs": [
    {
     "data": {
      "text/plain": [
       "(62, 1)"
      ]
     },
     "execution_count": 131,
     "metadata": {},
     "output_type": "execute_result"
    }
   ],
   "source": [
    "Y_test.shape"
   ]
  },
  {
   "cell_type": "code",
   "execution_count": 103,
   "id": "185f3fcf",
   "metadata": {},
   "outputs": [],
   "source": [
    "#initializing regression model\n",
    "model=LinearRegression()"
   ]
  },
  {
   "cell_type": "code",
   "execution_count": 132,
   "id": "2b76a578",
   "metadata": {},
   "outputs": [
    {
     "data": {
      "text/plain": [
       "LinearRegression()"
      ]
     },
     "execution_count": 132,
     "metadata": {},
     "output_type": "execute_result"
    }
   ],
   "source": [
    "model.fit(X_train,Y_train)"
   ]
  },
  {
   "cell_type": "code",
   "execution_count": 133,
   "id": "371b8183",
   "metadata": {},
   "outputs": [],
   "source": [
    "predictions = model.predict(X_test)\n"
   ]
  },
  {
   "cell_type": "code",
   "execution_count": 135,
   "id": "6db354e1",
   "metadata": {},
   "outputs": [
    {
     "data": {
      "text/plain": [
       "4815244.746191199"
      ]
     },
     "execution_count": 135,
     "metadata": {},
     "output_type": "execute_result"
    }
   ],
   "source": [
    "mean_squared_error(Y_test, predictions)"
   ]
  },
  {
   "cell_type": "markdown",
   "id": "5a68c68b",
   "metadata": {},
   "source": [
    "#### model score"
   ]
  },
  {
   "cell_type": "code",
   "execution_count": 136,
   "id": "22fbb258",
   "metadata": {},
   "outputs": [
    {
     "data": {
      "text/plain": [
       "0.8978090640830858"
      ]
     },
     "execution_count": 136,
     "metadata": {},
     "output_type": "execute_result"
    }
   ],
   "source": [
    "model.score(X_test,Y_test)"
   ]
  },
  {
   "cell_type": "code",
   "execution_count": 137,
   "id": "e20a1f4a",
   "metadata": {},
   "outputs": [
    {
     "data": {
      "text/plain": [
       "array([[ 7546.485739  ],\n",
       "       [11550.4085124 ],\n",
       "       [11944.70695259],\n",
       "       [36845.72648063],\n",
       "       [ 7424.7392372 ],\n",
       "       [23829.4271867 ],\n",
       "       [ 7153.50273358],\n",
       "       [14317.03703746],\n",
       "       [12123.19436047],\n",
       "       [14329.74737997],\n",
       "       [14115.29821647],\n",
       "       [13653.9734903 ],\n",
       "       [10098.43562119],\n",
       "       [ 5966.96350612],\n",
       "       [11204.6738373 ],\n",
       "       [ 8693.02728501],\n",
       "       [13398.80064013],\n",
       "       [12584.34424307],\n",
       "       [ 7437.87981175],\n",
       "       [12122.22390564],\n",
       "       [27312.79722455],\n",
       "       [ 8523.53473542],\n",
       "       [ 7746.23600902],\n",
       "       [15237.50240529],\n",
       "       [13206.22533384],\n",
       "       [15156.90230033],\n",
       "       [ 6478.28957884],\n",
       "       [ 8328.86568665],\n",
       "       [ 6644.59906674],\n",
       "       [ 7407.15205766],\n",
       "       [ 6498.76258772],\n",
       "       [ 6095.81262508],\n",
       "       [17189.75257288],\n",
       "       [37004.24207289],\n",
       "       [ 9386.5996724 ],\n",
       "       [12577.1060523 ],\n",
       "       [ 7183.47461381],\n",
       "       [ 6791.90921269],\n",
       "       [ 7089.96409964],\n",
       "       [ 7261.38997212],\n",
       "       [ 9917.54942992],\n",
       "       [15888.87409908],\n",
       "       [11227.4279171 ],\n",
       "       [ 9956.9423487 ],\n",
       "       [16182.13523203],\n",
       "       [10918.16994377],\n",
       "       [ 9133.70645232],\n",
       "       [25603.12763147],\n",
       "       [20982.97505204],\n",
       "       [10887.84848465],\n",
       "       [ 6359.34402037],\n",
       "       [14887.15248107],\n",
       "       [18083.79121039],\n",
       "       [13537.12543108],\n",
       "       [ 8948.92968948],\n",
       "       [10099.85149157],\n",
       "       [21254.42239316],\n",
       "       [ 6218.79275153],\n",
       "       [ 9100.17624271],\n",
       "       [13804.58695759],\n",
       "       [ 5986.28979858],\n",
       "       [ 7083.89324814]])"
      ]
     },
     "execution_count": 137,
     "metadata": {},
     "output_type": "execute_result"
    }
   ],
   "source": [
    "predictions"
   ]
  },
  {
   "cell_type": "markdown",
   "id": "4534b89f",
   "metadata": {},
   "source": [
    "## Now lets to PCA on X_Train and X_test "
   ]
  },
  {
   "cell_type": "code",
   "execution_count": 139,
   "id": "480d54a9",
   "metadata": {},
   "outputs": [],
   "source": [
    "from sklearn.decomposition import PCA"
   ]
  },
  {
   "cell_type": "code",
   "execution_count": 140,
   "id": "8dd92182",
   "metadata": {},
   "outputs": [],
   "source": [
    "pca = PCA(n_components = 6)\n"
   ]
  },
  {
   "cell_type": "code",
   "execution_count": 151,
   "id": "a0c8f5b3",
   "metadata": {},
   "outputs": [],
   "source": [
    "X_train_pcav= pca.fit_transform(X_train)"
   ]
  },
  {
   "cell_type": "code",
   "execution_count": 153,
   "id": "ed999a9e",
   "metadata": {},
   "outputs": [
    {
     "data": {
      "text/plain": [
       "array([[ 4.62138473e+02, -9.45193735e+01,  1.97563690e+01,\n",
       "        -7.07874682e+00, -3.51402609e+00, -1.54373187e+00],\n",
       "       [ 4.22700110e+02, -6.64400350e+01, -4.96070293e+00,\n",
       "         1.04741155e+01,  9.31004504e-01,  3.34298570e-01],\n",
       "       [-6.36546761e+02,  2.03598299e+01,  6.66060352e+00,\n",
       "         1.42974553e+00, -1.78455809e+00, -1.99975414e+00],\n",
       "       [-2.52971227e+02, -8.84765494e+01,  4.96266810e+00,\n",
       "        -2.14945347e+00, -1.42757277e-01,  1.42053145e+00],\n",
       "       [ 7.44774194e+02,  7.35553728e+00,  2.01070274e+00,\n",
       "         6.56867405e+00,  1.58823010e+00,  3.79053933e+00],\n",
       "       [ 1.09157361e+02, -8.78245076e+01,  6.96297749e+00,\n",
       "        -2.69995382e+00,  7.07836486e-01,  4.76142962e-01],\n",
       "       [-2.88956126e+02, -6.64298774e+01, -4.79277321e+00,\n",
       "         2.16882281e+00,  2.09155764e+00, -3.45200677e-01],\n",
       "       [-5.99210677e+02,  6.25614096e+01,  1.48127251e+00,\n",
       "         8.01447323e+00, -5.65157358e+00,  1.74707293e-01],\n",
       "       [ 5.76254496e+02, -1.20474375e+01, -3.29353023e+01,\n",
       "         1.53824839e+00, -2.83271329e+00, -1.56226627e-01],\n",
       "       [-5.17034143e+02,  9.44880749e-02,  4.05509411e+00,\n",
       "        -7.30717111e+00,  2.66988679e+00,  4.76325418e-01],\n",
       "       [ 4.89755318e+02, -9.17526054e+01, -1.40484810e+01,\n",
       "        -1.07707914e+00,  5.81047007e-01,  2.02067402e+00],\n",
       "       [ 1.46633809e+02,  3.69083983e+01, -6.94534098e+00,\n",
       "        -4.47965203e-01, -5.04578767e+00, -5.83735977e-01],\n",
       "       [-4.08074486e+02, -4.24561511e+01,  1.08075049e+01,\n",
       "        -7.15092243e+00,  1.15169105e+00, -1.50212553e+00],\n",
       "       [ 8.29873604e+02,  9.54058936e+01,  1.66755527e+01,\n",
       "        -4.14276028e+00,  3.60882004e+00,  7.30239252e-01],\n",
       "       [ 7.30153120e+02, -8.63351685e+00, -5.88075625e+01,\n",
       "        -5.74866273e+00, -2.10219244e+00, -1.40737646e+00],\n",
       "       [-6.02934621e+02,  2.74844307e+00,  9.94397425e+00,\n",
       "        -5.83116460e+00,  1.65358554e-01,  1.13141706e+00],\n",
       "       [-5.36737813e+02,  7.51518137e+00,  1.11667371e+01,\n",
       "        -4.50491300e+00, -4.92807069e-02,  1.41365098e+00],\n",
       "       [-3.43773754e+02, -8.39485105e+01,  1.06519029e+01,\n",
       "        -4.92040670e+00, -4.55336348e-02,  1.11486651e+00],\n",
       "       [ 2.50811775e+02, -1.96443429e+01,  5.20115639e+01,\n",
       "         9.92974062e+00,  4.56652647e+00,  2.44631275e+00],\n",
       "       [-2.17399612e+02,  5.64717525e+01, -6.19926251e+00,\n",
       "        -7.34602095e-01,  2.88710624e+00,  2.07616489e+00],\n",
       "       [-8.41777163e+02,  6.55065171e+01,  1.82928401e+01,\n",
       "         8.63648773e+00, -1.72783686e+00,  3.92294475e-01],\n",
       "       [-1.83131274e-01, -6.55793078e+01,  2.30769912e+01,\n",
       "        -2.27335332e+00,  1.35668905e+00, -1.65820982e+00],\n",
       "       [-2.29106201e+02,  1.16610197e+00,  7.36317929e+00,\n",
       "        -5.18450815e+00,  9.27307518e-01,  1.08701833e+00],\n",
       "       [-6.16001771e+00,  1.00951087e+02, -4.01669073e+00,\n",
       "         7.99912039e+00,  7.74404999e+00, -1.68344100e-01],\n",
       "       [-4.72585040e+02, -5.83493429e+01,  6.87705463e+00,\n",
       "        -2.24989691e+00, -2.33115837e-01, -5.56605202e-01],\n",
       "       [-5.82968911e+02,  8.52728421e-01,  8.75409950e+00,\n",
       "        -5.26788696e+00,  1.00792413e-01,  1.28309335e+00],\n",
       "       [-1.88248430e+02,  1.55342640e+01,  5.78240086e+00,\n",
       "        -2.63969299e+00,  2.06738094e+00, -1.24938528e+00],\n",
       "       [-6.79104381e+02,  7.48300573e+01,  3.29519789e+00,\n",
       "        -4.73852545e-01, -1.57466013e+00, -1.73173436e+00],\n",
       "       [ 6.99154776e+02, -9.09849364e+00, -2.33643977e+01,\n",
       "         3.24761089e+00, -3.49324217e+00,  9.41213180e-01],\n",
       "       [ 3.60076209e+02, -8.94046423e+01, -5.57124528e+00,\n",
       "        -4.88280913e+00,  1.04108146e+00,  5.11827177e-01],\n",
       "       [-2.78254479e+02, -5.94648816e+01,  6.04898518e+00,\n",
       "         2.55666186e+00, -5.84868596e-01, -2.30644960e-01],\n",
       "       [-3.18291263e+02,  6.19298588e+01, -7.98050649e-01,\n",
       "        -1.99066069e+00, -4.63228181e-01,  1.10478987e-01],\n",
       "       [-6.54771333e+02,  4.50568353e+01,  4.74255480e+00,\n",
       "        -1.29964460e+00, -1.28038965e+00,  1.20366875e+00],\n",
       "       [-6.49775207e+02,  4.40851753e+01,  4.48576338e+00,\n",
       "        -1.13178511e+00, -1.28444801e+00,  1.21059035e+00],\n",
       "       [ 2.04445317e+02, -3.27654233e+01, -1.90794721e+01,\n",
       "        -4.21436298e+00,  4.95097099e+00,  2.09486316e+00],\n",
       "       [ 1.53572398e+02, -3.20212626e+01, -1.57524934e+01,\n",
       "        -5.61997415e+00,  5.06950492e+00,  1.77418877e+00],\n",
       "       [-7.33901510e+01, -7.36547187e+01, -7.73948407e+00,\n",
       "        -2.48725726e+00, -2.57870846e+00, -7.00330917e-01],\n",
       "       [ 1.51792084e+03,  7.04283906e+01,  2.08417604e+01,\n",
       "         2.95179403e+00, -2.70311117e+00, -1.63294945e+00],\n",
       "       [-1.51518820e+01, -6.46595720e+01,  2.40022065e+01,\n",
       "        -2.77648445e+00,  1.38465760e+00, -1.59957686e+00],\n",
       "       [-6.81139798e+02,  7.68255843e+01,  3.30742155e+00,\n",
       "         1.14934714e-01, -3.21803281e+00, -8.11226558e-01],\n",
       "       [-5.30037592e+02,  4.01645979e+00,  4.61613655e+00,\n",
       "        -7.76559694e+00,  2.68355994e+00,  4.65291977e-01],\n",
       "       [-9.88234558e+01, -4.69090758e+01, -9.51323692e+00,\n",
       "         1.11756705e+00,  1.80396071e+00, -2.27444389e-01],\n",
       "       [ 1.51791118e+03,  7.14252876e+01,  2.07656066e+01,\n",
       "         2.93608607e+00, -2.70088160e+00, -1.62797607e+00],\n",
       "       [-9.44771694e+01, -7.58505757e+01,  5.87613376e+00,\n",
       "        -4.15130720e+00, -2.39733790e+00, -1.68916284e+00],\n",
       "       [ 4.25683447e+02, -7.07272038e+01,  1.92956703e+01,\n",
       "        -2.01026639e-01,  3.89201472e-01, -2.57704351e+00],\n",
       "       [ 1.19147363e+03,  4.39467540e+01,  2.00194174e+01,\n",
       "        -8.59629313e+00, -4.06362131e+00, -8.36254665e-01],\n",
       "       [-5.68962080e+02, -5.31493329e+01,  7.48160218e+00,\n",
       "         1.94247370e+00, -3.96771837e+00,  6.32388676e-01],\n",
       "       [ 2.69738011e+02,  1.02862215e+02, -1.17036631e+00,\n",
       "         8.74797168e+00,  2.29407608e+00,  1.57157076e+00],\n",
       "       [ 1.21786921e+03,  4.12956477e+01, -3.25105091e+01,\n",
       "        -2.29234257e+00, -3.12201766e+00, -1.34113199e+00],\n",
       "       [-2.50283958e+02,  6.01025029e+01, -5.87020988e+00,\n",
       "        -7.07454636e+00,  2.96440221e+00,  1.00876854e+00],\n",
       "       [-8.96997319e+01,  5.89194041e+01, -1.64369269e+01,\n",
       "        -2.14781332e+00,  2.95681445e+00,  1.38609560e+00],\n",
       "       [-1.11723661e+01, -6.36424853e+01,  2.36596966e+01,\n",
       "        -2.67047119e+00,  1.38542414e+00, -1.58508749e+00],\n",
       "       [ 3.56624673e+02,  2.93910951e+01, -1.44895070e+01,\n",
       "         3.42427475e+00, -1.89706658e+00,  1.24067229e-01],\n",
       "       [-4.27214477e+02,  7.47020977e+01, -5.43688268e+00,\n",
       "         6.42790597e+00, -1.82537543e+00, -1.04516210e+00],\n",
       "       [ 5.44244829e+02,  7.40818184e+00,  1.55985647e+01,\n",
       "         3.10744080e+00,  5.79604053e-01,  2.43052023e+00],\n",
       "       [ 3.83033278e+02, -9.12823457e+01, -6.95048554e+00,\n",
       "        -4.15149618e+00,  1.02820989e+00,  5.56597349e-01],\n",
       "       [-5.50760199e+02,  1.88001141e+01,  1.08625422e+00,\n",
       "         4.07816774e+00, -1.82047237e+00, -1.80510715e+00],\n",
       "       [ 2.25935664e+02, -1.99947788e+01,  1.04298765e+01,\n",
       "         1.16132980e+01,  1.46334261e+00, -1.77319330e+00],\n",
       "       [ 3.99922868e+02,  9.67767819e+01, -2.79906858e+01,\n",
       "        -1.02337058e+01,  2.07072674e+00, -4.72300561e-01],\n",
       "       [-6.64753927e+02,  4.60032581e+01,  5.33229138e+00,\n",
       "        -1.61965562e+00, -1.27450250e+00,  1.18485216e+00],\n",
       "       [ 5.88090637e+02,  2.77513385e+00,  1.35619805e+01,\n",
       "         8.88937730e+00,  1.56313611e+00, -2.59977473e+00],\n",
       "       [-4.26287848e+02, -2.09989787e+01,  1.87175752e+00,\n",
       "         7.93763711e+00, -2.07368740e+00, -1.56001433e+00],\n",
       "       [-2.92751077e+02, -8.35834951e+01, -4.76243948e+00,\n",
       "        -2.09233330e+00,  6.52897251e-02,  1.16865140e+00],\n",
       "       [ 4.91997553e+02, -9.35416310e+01, -2.50137234e+01,\n",
       "         4.15134001e-01,  1.17524358e+00,  7.15896182e-01],\n",
       "       [ 1.41596507e+02, -3.10896168e+01, -1.50366705e+01,\n",
       "        -6.16288816e+00,  4.97847286e+00,  1.95493310e+00],\n",
       "       [ 1.35632565e+03,  4.81186773e+01,  8.19115309e+01,\n",
       "        -1.85999488e+01, -7.48159983e+00, -1.40798087e+00],\n",
       "       [ 8.16162784e+02, -1.73077063e+01,  2.21587076e+01,\n",
       "         1.61954703e+01, -1.65775015e-01, -2.09242027e+00],\n",
       "       [ 4.97941744e+02,  9.52963513e+01, -3.76361451e+01,\n",
       "         9.71598871e+00,  1.71511271e+00, -6.55362541e-01],\n",
       "       [-6.46160954e+02,  7.59396774e+01,  8.01194075e-01,\n",
       "        -1.49272034e+00, -1.92934056e+00, -5.15775430e-01],\n",
       "       [-1.51157661e+02,  1.28367239e+01, -8.47821954e+00,\n",
       "        -1.40539507e-01,  2.27590852e+00, -1.27107434e+00],\n",
       "       [-1.06848673e+03,  7.40584726e+01,  1.85198355e+00,\n",
       "         6.97088226e+00, -4.59042533e+00,  2.21376891e+00],\n",
       "       [ 9.56731641e+01, -4.79388807e+01, -2.24276721e+01,\n",
       "         6.75919325e+00,  1.28975782e+00,  1.95511049e+00],\n",
       "       [-2.63387633e+02, -4.67436255e+01,  1.39864971e+00,\n",
       "        -3.93550985e+00,  1.81768015e+00, -6.51019833e-01],\n",
       "       [-4.33368077e+02, -4.02745378e+01,  1.36933605e+01,\n",
       "         5.92616505e+00, -2.78389989e+00,  1.13772088e+00],\n",
       "       [-2.25177962e+02,  1.93439451e+01,  7.97524158e+00,\n",
       "        -3.79261917e+00,  3.08761864e+00, -3.50109358e+00],\n",
       "       [-4.62962070e+01,  9.69050906e+01,  3.41435370e+00,\n",
       "        -7.03469297e+00,  9.75662065e-01, -5.17762873e-01],\n",
       "       [-1.51147925e+02,  1.18370981e+01, -8.39069009e+00,\n",
       "        -1.55553847e-01,  2.27483987e+00, -1.24579688e+00],\n",
       "       [-1.77243248e+02,  4.17412040e+01, -4.85073701e+01,\n",
       "         6.82127652e+00,  3.14655876e+00, -3.30339825e+00],\n",
       "       [ 2.06921188e+02, -1.88697135e+01,  5.48670767e+01,\n",
       "         8.56975335e+00,  4.58559038e+00,  2.33722589e+00],\n",
       "       [-6.15918231e+02,  4.67375171e+00,  1.06469226e+01,\n",
       "        -6.33491890e+00,  1.21780710e-01,  1.22447997e+00],\n",
       "       [-1.68408164e+02,  4.14073497e+01,  1.80129449e+00,\n",
       "        -8.51056459e+00,  1.99956997e+00, -5.60300554e-01],\n",
       "       [ 4.81757653e+02, -8.97991907e+01, -1.36680763e+01,\n",
       "        -1.35193751e+00,  5.88432218e-01,  2.01158880e+00],\n",
       "       [-1.38365744e+02, -7.50857875e+01,  8.69706778e+00,\n",
       "        -5.75477243e+00, -2.65568941e+00, -7.96272817e-01],\n",
       "       [ 5.87839991e+02,  3.99630471e+00,  1.45935506e+01,\n",
       "         1.91060776e+01,  4.41229724e+00,  5.85835747e-02],\n",
       "       [-1.43461928e+02,  4.05158111e+01,  1.43427457e-01,\n",
       "        -8.20937468e+00,  1.41260665e+00,  1.39750778e+00],\n",
       "       [-4.44651981e+02, -5.92019890e+01,  5.09499312e+00,\n",
       "        -1.27450214e+00, -1.95653248e-01, -7.67555283e-01],\n",
       "       [ 4.00076120e+02, -9.52164543e+01, -8.05717756e+00,\n",
       "        -5.60937790e+00, -2.87389972e+00, -1.97542105e+00],\n",
       "       [-3.64346123e+02,  7.10331235e+01, -9.32037839e+00,\n",
       "         8.37080161e+00, -1.79389930e+00, -1.00259214e+00],\n",
       "       [ 5.09421203e+02,  5.17691242e+00,  1.78392762e+01,\n",
       "        -4.57019493e-01,  1.95709222e+00,  2.27117017e+00],\n",
       "       [-6.79094723e+02,  7.38331603e+01,  3.37135164e+00,\n",
       "        -4.58144582e-01, -1.57688971e+00, -1.73670774e+00],\n",
       "       [-5.46108757e+02, -8.87640822e-01,  6.70318327e+00,\n",
       "        -1.49602083e+00, -1.37443880e+00,  8.03031023e-02],\n",
       "       [-4.59581591e+02, -6.22713146e+01,  6.31601218e+00,\n",
       "        -1.79147109e+00, -2.46788987e-01, -5.45571762e-01],\n",
       "       [ 6.03706061e+02, -9.39866537e+01, -3.24446641e+01,\n",
       "         3.64170257e+00,  7.26251906e-01,  2.19186784e+00],\n",
       "       [ 5.20380924e+02, -7.39228854e+00, -4.35787450e+01,\n",
       "         1.13116962e+00, -2.58027115e+00,  2.90011998e-01],\n",
       "       [-5.39023435e+02, -5.49945733e+01,  5.62583710e+00,\n",
       "         2.81005439e+00, -4.03594208e+00,  8.07854936e-01],\n",
       "       [-1.68693667e+02, -4.42508366e+01, -4.99591690e+00,\n",
       "        -5.37154910e-03,  7.17515050e-01,  7.27141925e-01],\n",
       "       [-6.04711118e+02,  4.21529510e+01,  9.88459379e-01,\n",
       "        -6.59981878e+00,  2.28432313e+00,  1.33883848e+00],\n",
       "       [-2.54041716e+02, -6.72489664e+01, -7.04759595e+00,\n",
       "         3.32193334e+00,  2.06977467e+00, -3.59496803e-01],\n",
       "       [-1.10521458e+02,  3.76900811e+01, -1.83613751e+00,\n",
       "        -7.14474743e+00,  1.32296464e+00,  1.52175110e+00],\n",
       "       [-1.82188687e+01, -2.16704441e+01, -3.51487264e+00,\n",
       "        -3.14205271e+00, -5.13558161e+00,  4.39558272e+00],\n",
       "       [-6.10607470e+02,  1.94941658e+01,  5.00544242e+00,\n",
       "         2.23664144e+00, -1.79629736e+00, -1.94287359e+00],\n",
       "       [ 1.40665080e+03,  7.42154410e+01,  9.73599462e+01,\n",
       "         4.75365233e+00,  2.68787843e+00, -2.59572957e+00],\n",
       "       [ 2.54319627e+02, -3.35071220e+01, -2.23352500e+01,\n",
       "        -2.46133952e+00,  5.01170275e+00,  1.96525892e+00],\n",
       "       [-1.59863462e+02,  8.82514565e+01, -1.64393600e+01,\n",
       "        -7.73986373e+00, -1.40060815e-01,  8.78597184e-02],\n",
       "       [-2.61363847e+02,  5.72198118e+01, -4.27497598e+00,\n",
       "        -1.30249705e+00,  9.03616280e-01, -2.09851229e+00],\n",
       "       [ 6.44226365e+02, -1.40092543e+00, -2.03112309e+01,\n",
       "         1.44828037e+00, -3.45528890e+00,  8.50155383e-01],\n",
       "       [ 2.90211025e+02,  9.72190523e+01, -2.07378280e+01,\n",
       "        -1.36330787e+01,  2.11453629e+00, -7.81964464e-01],\n",
       "       [-4.40207981e+01, -4.46192728e+01, -1.32579967e+01,\n",
       "         3.85927317e+00,  6.83367429e-01,  1.05434529e+00],\n",
       "       [-3.49802726e+02, -6.57378343e+01, -8.08725992e-01,\n",
       "         3.26942278e-01,  2.03486160e+00, -5.97449475e-01],\n",
       "       [-1.48347030e+02,  1.47392638e+01,  3.19499331e+00,\n",
       "        -1.40677280e+00,  2.05052107e+00, -1.15919878e+00],\n",
       "       [-7.36054388e+02,  6.50446467e+01,  1.13105564e+01,\n",
       "         1.18778081e+01, -1.76883672e+00,  6.39494784e-01],\n",
       "       [-5.31186976e+02,  6.06831655e+01, -3.85583370e+00,\n",
       "         1.60206125e+00, -6.31662978e+00,  4.78369269e+00],\n",
       "       [ 5.02530243e+02,  9.24855100e+01, -5.99915713e+00,\n",
       "        -5.49110382e+00,  1.85124514e+00,  1.79320427e+00],\n",
       "       [-1.77233589e+02,  4.07443070e+01, -4.84312164e+01,\n",
       "         6.83698448e+00,  3.14432918e+00, -3.30837163e+00],\n",
       "       [ 5.09817478e+02, -9.86499152e+01, -1.50911106e+01,\n",
       "        -2.17043238e+00, -2.95810980e+00, -1.73483709e+00],\n",
       "       [ 2.06911530e+02, -1.78728164e+01,  5.47909230e+01,\n",
       "         8.55404539e+00,  4.58781996e+00,  2.34219927e+00],\n",
       "       [ 8.76939268e+02, -2.54381091e+00, -3.71379762e+01,\n",
       "        -5.08461883e+00, -3.55247520e+00,  1.00749360e+00],\n",
       "       [ 9.54689778e+02,  9.48971202e+01,  7.65040689e+00,\n",
       "        -6.61679160e+00, -1.23774953e+00,  6.39495163e-01],\n",
       "       [ 1.58151312e+02,  9.30248742e+01,  1.80540030e+01,\n",
       "        -3.94417924e+00, -1.34081019e+00,  1.19758448e+00],\n",
       "       [-5.88321467e+02,  7.22975873e+01, -2.53970642e+00,\n",
       "         2.30098115e+00, -1.61073936e+00, -1.59612363e+00],\n",
       "       [ 4.96823331e+02, -9.57249345e+01, -1.44529952e+01,\n",
       "        -2.60685655e+00, -2.94148331e+00, -1.72617051e+00],\n",
       "       [-4.13687067e+02, -6.40311525e+01,  3.41186218e+00,\n",
       "        -3.24964709e-01, -2.11387719e-01, -6.26085632e-01],\n",
       "       [-3.13695566e+02, -4.06685064e+01,  5.78183242e+00,\n",
       "         9.94982719e+00, -3.35499577e+00,  3.29807093e+00],\n",
       "       [ 5.99657320e+02, -7.37091054e+01, -2.54719053e+00,\n",
       "         1.35728374e+00,  5.76338625e-01, -3.96559176e-01],\n",
       "       [ 5.31231676e+02,  9.60712983e+01, -4.16645355e+01,\n",
       "        -5.71717505e+00,  2.03300870e+00, -7.88441251e-02],\n",
       "       [ 1.79170942e+02,  5.60513534e+01, -2.47094941e+01,\n",
       "         8.50713711e+00,  2.56201850e+00, -4.63173373e-01],\n",
       "       [-6.36281202e+02, -2.16569648e+01,  7.88537178e+00,\n",
       "         2.32789267e+00, -1.80629083e+00, -2.11423437e+00],\n",
       "       [-1.72237463e+02,  3.97726470e+01, -4.86880078e+01,\n",
       "         7.00484397e+00,  3.14027082e+00, -3.30145003e+00],\n",
       "       [-6.09707261e+02,  4.31246820e+01,  1.24519961e+00,\n",
       "        -6.76770274e+00,  2.28797035e+00,  1.33179874e+00],\n",
       "       [-3.63186618e+02, -4.32259141e+01,  7.88715221e+00,\n",
       "        -5.76585071e+00,  1.13300239e+00, -1.40004404e+00],\n",
       "       [ 1.17118988e+02,  3.82002639e+01,  9.18570074e-01,\n",
       "        -2.00493551e+00, -5.02707926e+00, -6.12415473e-01],\n",
       "       [ 6.80166659e+02,  9.57247808e+01,  2.69210673e+01,\n",
       "        -4.90084945e+00,  8.31925653e-01,  2.64862040e+00],\n",
       "       [-5.87394275e+02, -2.34045294e+01,  4.77105309e+00,\n",
       "         3.80894557e+00, -1.82477868e+00, -2.07356814e+00],\n",
       "       [-5.65228404e+02, -2.45030152e+01,  2.54075621e+00,\n",
       "        -4.34046808e+00,  2.83620416e+00, -1.98167842e+00],\n",
       "       [ 1.19759846e+03,  4.34559458e+01, -3.00921746e+01,\n",
       "         9.37111077e+00, -4.62157071e+00,  3.19022602e+00],\n",
       "       [-3.84717136e+02, -6.49187454e+01,  1.44609675e+00,\n",
       "        -8.26168248e-01,  2.05664457e+00, -5.83153349e-01],\n",
       "       [-2.99135191e+02, -8.94201285e+01,  9.32912720e+00,\n",
       "         8.71882520e+00, -3.46615398e+00,  2.56328635e+00],\n",
       "       [-5.26129206e+02,  2.14570326e+00,  4.90718373e+00,\n",
       "        -3.45001140e+00,  6.09961100e-01,  1.30191063e-01],\n",
       "       [-7.18803431e+02,  6.29852589e+01, -3.60173421e+00,\n",
       "         5.73228508e+00, -5.32872676e+00, -1.97303083e-01],\n",
       "       [ 2.66260413e+02, -1.85253913e+01,  1.21948023e+01,\n",
       "         8.09245618e+00,  2.24178493e+00, -1.73053731e+00],\n",
       "       [-9.22767932e+01, -2.91774625e+01,  1.25287714e+01,\n",
       "        -3.54089159e+00,  4.30428103e+00, -2.63797606e+00],\n",
       "       [-2.78263319e+02, -5.84709077e+01,  5.96655379e+00,\n",
       "         2.43331564e+00, -6.32572390e-01,  4.69170381e-02],\n",
       "       [ 6.64664097e+02, -9.65683587e+01, -2.15344478e+01,\n",
       "         2.12485253e+00, -3.19271310e+00, -1.28447438e+00]])"
      ]
     },
     "execution_count": 153,
     "metadata": {},
     "output_type": "execute_result"
    }
   ],
   "source": [
    "X_train_pcav"
   ]
  },
  {
   "cell_type": "code",
   "execution_count": 144,
   "id": "2ebe2638",
   "metadata": {
    "scrolled": true
   },
   "outputs": [
    {
     "data": {
      "text/plain": [
       "LinearRegression()"
      ]
     },
     "execution_count": 144,
     "metadata": {},
     "output_type": "execute_result"
    }
   ],
   "source": [
    "model.fit(pca_values,Y_train)"
   ]
  },
  {
   "cell_type": "code",
   "execution_count": 145,
   "id": "5e94bef5",
   "metadata": {},
   "outputs": [],
   "source": [
    "X_test_pcav= pca.fit_transform(X_test)"
   ]
  },
  {
   "cell_type": "code",
   "execution_count": 147,
   "id": "1f092b21",
   "metadata": {},
   "outputs": [],
   "source": [
    "pca_predict=model.predict(X_test_pcav)"
   ]
  },
  {
   "cell_type": "markdown",
   "id": "c857d7c6",
   "metadata": {},
   "source": [
    "#### model score using PCA"
   ]
  },
  {
   "cell_type": "code",
   "execution_count": 149,
   "id": "fb9940fd",
   "metadata": {},
   "outputs": [
    {
     "data": {
      "text/plain": [
       "0.7793822156934539"
      ]
     },
     "execution_count": 149,
     "metadata": {},
     "output_type": "execute_result"
    }
   ],
   "source": [
    "model.score(X_test_pcav, Y_test)"
   ]
  },
  {
   "cell_type": "code",
   "execution_count": null,
   "id": "3424d18e",
   "metadata": {},
   "outputs": [],
   "source": []
  }
 ],
 "metadata": {
  "kernelspec": {
   "display_name": "Python 3 (ipykernel)",
   "language": "python",
   "name": "python3"
  },
  "language_info": {
   "codemirror_mode": {
    "name": "ipython",
    "version": 3
   },
   "file_extension": ".py",
   "mimetype": "text/x-python",
   "name": "python",
   "nbconvert_exporter": "python",
   "pygments_lexer": "ipython3",
   "version": "3.9.13"
  }
 },
 "nbformat": 4,
 "nbformat_minor": 5
}
